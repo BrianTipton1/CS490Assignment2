{
 "cells": [
  {
   "cell_type": "code",
   "execution_count": 1,
   "metadata": {
    "vscode": {
     "languageId": "python"
    }
   },
   "outputs": [],
   "source": [
    "import torch"
   ]
  },
  {
   "cell_type": "code",
   "execution_count": 2,
   "metadata": {
    "vscode": {
     "languageId": "python"
    }
   },
   "outputs": [
    {
     "data": {
      "text/plain": [
       "True"
      ]
     },
     "execution_count": 2,
     "metadata": {},
     "output_type": "execute_result"
    }
   ],
   "source": [
    "torch.cuda.is_available()"
   ]
  },
  {
   "cell_type": "code",
   "execution_count": 3,
   "metadata": {
    "vscode": {
     "languageId": "python"
    }
   },
   "outputs": [
    {
     "data": {
      "text/plain": [
       "'NVIDIA GeForce RTX 2070 SUPER'"
      ]
     },
     "execution_count": 3,
     "metadata": {},
     "output_type": "execute_result"
    }
   ],
   "source": [
    "torch.cuda.get_device_name(0)"
   ]
  },
  {
   "cell_type": "code",
   "execution_count": 4,
   "metadata": {
    "vscode": {
     "languageId": "python"
    }
   },
   "outputs": [
    {
     "data": {
      "text/plain": [
       "(7755792384, 8361738240)"
      ]
     },
     "execution_count": 4,
     "metadata": {},
     "output_type": "execute_result"
    }
   ],
   "source": [
    "torch.cuda.mem_get_info()"
   ]
  },
  {
   "cell_type": "code",
   "execution_count": 5,
   "metadata": {
    "vscode": {
     "languageId": "python"
    }
   },
   "outputs": [
    {
     "name": "stdout",
     "output_type": "stream",
     "text": [
      "cuda\n",
      "NVIDIA GeForce RTX 2070 SUPER\n"
     ]
    }
   ],
   "source": [
    "device=torch.device('cuda' if torch.cuda.is_available() else 'cpu')\n",
    "print(device)\n",
    "\n",
    "if device.type=='cuda':\n",
    "    print(torch.cuda.get_device_name(0))"
   ]
  },
  {
   "cell_type": "code",
   "execution_count": 6,
   "metadata": {
    "vscode": {
     "languageId": "python"
    }
   },
   "outputs": [
    {
     "data": {
      "text/plain": [
       "device(type='cuda')"
      ]
     },
     "execution_count": 6,
     "metadata": {},
     "output_type": "execute_result"
    }
   ],
   "source": [
    "CLASSES=10\n",
    "device=torch.device('cuda' if torch.cuda.is_available() else 'cpu')\n",
    "device"
   ]
  },
  {
   "cell_type": "code",
   "execution_count": 7,
   "metadata": {
    "vscode": {
     "languageId": "python"
    }
   },
   "outputs": [],
   "source": [
    "import torch\n",
    "import torchvision\n",
    "import torchvision.datasets as datasets\n",
    "import torchvision.transforms as transforms\n",
    "import torch.optim as optim\n",
    "import torch.nn as nn\n",
    "import torch.nn.functional as F\n",
    "import numpy as np"
   ]
  },
  {
   "cell_type": "code",
   "execution_count": 8,
   "metadata": {
    "vscode": {
     "languageId": "python"
    }
   },
   "outputs": [],
   "source": [
    "class Net(nn.Module):\n",
    "    def __init__(self):\n",
    "        super().__init__()\n",
    "        self.conv1 = nn.Conv2d(in_channels=1, out_channels=96, kernel_size=11, stride=4, padding=0)\n",
    "\n",
    "        self.conv2 = nn.Conv2d(in_channels=96, out_channels=96, kernel_size=1)\n",
    "\n",
    "        self.conv3 = nn.Conv2d(in_channels=96,out_channels=96, kernel_size=1)\n",
    "        self.pool3 = nn.MaxPool2d(kernel_size=3, stride=2)\n",
    "        self.drop3 = nn.Dropout(0.5)\n",
    "\n",
    "        self.conv4 = nn.Conv2d(in_channels=96,out_channels=256, kernel_size=11, stride=4, padding=2)\n",
    "\n",
    "        self.conv5 = nn.Conv2d(in_channels=256,out_channels=256, kernel_size=1)\n",
    "        self.pool5 = nn.MaxPool2d(kernel_size=3, stride=2)\n",
    "        self.drop5 = nn.Dropout(0.5)\n",
    "\n",
    "        self.conv6 = nn.Conv2d(256, 384, kernel_size=3, stride=1, padding=1)\n",
    "\n",
    "        self.conv7 = nn.Conv2d(384, 384, kernel_size=1)\n",
    "\n",
    "        self.conv8 = nn.Conv2d(384, 384, kernel_size=1)\n",
    "        self.drop8 = nn.Dropout(0.5)\n",
    "\n",
    "        self.conv9 = nn.Conv2d(384, 10, kernel_size=3, stride=1, padding=1)\n",
    "\n",
    "        self.conv10 = nn.Conv2d(10, 10, kernel_size=1)\n",
    "\n",
    "        self.conv11 = nn.Conv2d(10, 10, kernel_size=1)\n",
    "        self.adaptive_pool = nn.AdaptiveAvgPool2d((1, 1))\n",
    "\n",
    "    def forward(self, x):\n",
    "        x = F.relu(self.conv1(x))\n",
    "        x = F.relu(self.conv2(x))\n",
    "        x = self.drop3(self.pool3(F.relu(self.conv3(x))))\n",
    "        x = F.relu(self.conv4(x))\n",
    "        x = self.drop5(self.pool5(F.relu(self.conv5(x))))\n",
    "        x = F.relu(self.conv6(x))\n",
    "        x = F.relu(self.conv7(x))\n",
    "        x = self.drop8(F.relu(self.conv8(x)))\n",
    "        x = F.relu(self.conv9(x))\n",
    "        x = F.relu(self.conv10(x))\n",
    "        x = F.relu(self.conv11(x))\n",
    "        x = self.adaptive_pool(x)\n",
    "        x = torch.flatten(x, 1)\n",
    "        return x"
   ]
  },
  {
   "cell_type": "code",
   "execution_count": 9,
   "metadata": {
    "vscode": {
     "languageId": "python"
    }
   },
   "outputs": [],
   "source": [
    "transform_conf=transforms.Compose([\n",
    "    transforms.Resize((227,227)),\n",
    "    transforms.ToTensor(),\n",
    "    transforms.Normalize((0.1307,),(0.3081,))\n",
    "])"
   ]
  },
  {
   "cell_type": "code",
   "execution_count": 10,
   "metadata": {
    "vscode": {
     "languageId": "python"
    }
   },
   "outputs": [],
   "source": [
    "BATCH_SIZE = 16\n",
    "train_dataset = datasets.MNIST(\n",
    "    \"/workspaces/CS490Assignment2/data\",\n",
    "    train=True,\n",
    "    download=True,\n",
    "    transform=transform_conf,\n",
    ")\n",
    "test_dataset = datasets.MNIST(\n",
    "    \"/workspaces/CS490Assignment2/data\",\n",
    "    train=False,\n",
    "    download=True,\n",
    "    transform=transform_conf,\n",
    ")"
   ]
  },
  {
   "cell_type": "code",
   "execution_count": 11,
   "metadata": {
    "vscode": {
     "languageId": "python"
    }
   },
   "outputs": [],
   "source": [
    "train_loader = torch.utils.data.DataLoader(\n",
    "    train_dataset, batch_size=BATCH_SIZE, shuffle=True\n",
    ")\n",
    "test_loader = torch.utils.data.DataLoader(\n",
    "    test_dataset, batch_size=BATCH_SIZE, shuffle=True\n",
    ")"
   ]
  },
  {
   "cell_type": "code",
   "execution_count": 12,
   "metadata": {
    "vscode": {
     "languageId": "python"
    }
   },
   "outputs": [],
   "source": [
    "model = Net().to(device)\n",
    "optimizer = optim.Adam(params=model.parameters(), lr=0.0001)\n",
    "loss_fn = nn.CrossEntropyLoss()"
   ]
  },
  {
   "cell_type": "code",
   "execution_count": 13,
   "metadata": {
    "vscode": {
     "languageId": "python"
    }
   },
   "outputs": [],
   "source": [
    "def train(model, device, train_loader, optimizer, epochs):\n",
    "    print(\"inside train\")\n",
    "    model.train()\n",
    "    for batch_ids, (img, classes) in enumerate(train_loader):\n",
    "        classes = classes.type(torch.LongTensor)\n",
    "        img, classes = img.to(device), classes.to(device)\n",
    "        torch.autograd.set_detect_anomaly(True)\n",
    "        optimizer.zero_grad()\n",
    "        output = model(img)\n",
    "        loss = loss_fn(output, classes)\n",
    "\n",
    "        loss.backward()\n",
    "        optimizer.step()\n",
    "    if (batch_ids + 1) % 2 == 0:\n",
    "        print(\n",
    "            \"Train Epoch: {} [{}/{} ({:.0f}%)]\\tLoss: {:.6f}\".format(\n",
    "                epochs,\n",
    "                batch_ids * len(img),\n",
    "                len(train_loader.dataset),\n",
    "                100.0 * batch_ids / len(train_loader),\n",
    "                loss.item(),\n",
    "            )\n",
    "        )"
   ]
  },
  {
   "cell_type": "code",
   "execution_count": 14,
   "metadata": {
    "vscode": {
     "languageId": "python"
    }
   },
   "outputs": [],
   "source": [
    "def test(model, device, test_loader):\n",
    "    model.eval()\n",
    "    test_loss = 0\n",
    "    correct = 0\n",
    "    with torch.no_grad():\n",
    "        for img, classes in test_loader:\n",
    "            img, classes = img.to(device), classes.to(device)\n",
    "            y_hat = model(img)\n",
    "            test_loss += F.nll_loss(y_hat, classes, reduction=\"sum\").item()\n",
    "            _, y_pred = torch.max(y_hat, 1)\n",
    "            correct += (y_pred == classes).sum().item()\n",
    "        test_loss /= len(test_dataset)\n",
    "        print(\n",
    "            \"\\n Test set: Avarage loss: {:.0f},Accuracy:{}/{} ({:.0f}%)\\n\".format(\n",
    "                test_loss,\n",
    "                correct,\n",
    "                len(test_dataset),\n",
    "                100.0 * correct / len(test_dataset),\n",
    "            )\n",
    "        )\n",
    "        print(\"=\" * 30)"
   ]
  },
  {
   "cell_type": "code",
   "execution_count": 15,
   "metadata": {
    "vscode": {
     "languageId": "python"
    }
   },
   "outputs": [
    {
     "name": "stdout",
     "output_type": "stream",
     "text": [
      "inside train\n",
      "Train Epoch: 1 [59984/60000 (100%)]\tLoss: 0.486223\n",
      "\n",
      " Test set: Avarage loss: -14,Accuracy:9629/10000 (96%)\n",
      "\n",
      "==============================\n",
      "inside train\n",
      "Train Epoch: 2 [59984/60000 (100%)]\tLoss: 0.023493\n",
      "\n",
      " Test set: Avarage loss: -16,Accuracy:9763/10000 (98%)\n",
      "\n",
      "==============================\n"
     ]
    }
   ],
   "source": [
    "if __name__ == \"__main__\":\n",
    "    seed = 42\n",
    "    EPOCHS = 2\n",
    "\n",
    "    for epoch in range(1, EPOCHS + 1):\n",
    "        train(model, device, train_loader, optimizer, epoch)\n",
    "        test(model, device, test_loader)"
   ]
  }
 ],
 "metadata": {
  "kernelspec": {
   "display_name": "Python 3 (ipykernel)",
   "language": "python",
   "name": "python3"
  },
  "language_info": {
   "name": "",
   "version": ""
  }
 },
 "nbformat": 4,
 "nbformat_minor": 2
}
